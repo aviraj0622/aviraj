{
  "nbformat": 4,
  "nbformat_minor": 0,
  "metadata": {
    "colab": {
      "provenance": [],
      "authorship_tag": "ABX9TyMmQY0vVEVNE2OFCtLog6cW",
      "include_colab_link": true
    },
    "kernelspec": {
      "name": "python3",
      "display_name": "Python 3"
    },
    "language_info": {
      "name": "python"
    }
  },
  "cells": [
    {
      "cell_type": "markdown",
      "metadata": {
        "id": "view-in-github",
        "colab_type": "text"
      },
      "source": [
        "<a href=\"https://colab.research.google.com/github/aviraj0622/aviraj/blob/main/Copy_of_Experiment_no_1.ipynb\" target=\"_parent\"><img src=\"https://colab.research.google.com/assets/colab-badge.svg\" alt=\"Open In Colab\"/></a>"
      ]
    },
    {
      "cell_type": "code",
      "execution_count": 2,
      "metadata": {
        "id": "RwRXcBdYYYSE",
        "colab": {
          "base_uri": "https://localhost:8080/"
        },
        "outputId": "470e51fa-c053-4122-f7e3-737889bb133d"
      },
      "outputs": [
        {
          "output_type": "stream",
          "name": "stdout",
          "text": [
            "Enter the radius5\n",
            "78.5\n"
          ]
        }
      ],
      "source": [
        "\n",
        "x=int(input(\"Enter the radius\"))\n",
        "a=3.14*x*x;\n",
        "print(a)"
      ]
    }
  ]
}